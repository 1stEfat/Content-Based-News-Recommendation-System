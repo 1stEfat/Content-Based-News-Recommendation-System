{
 "cells": [
  {
   "cell_type": "markdown",
   "metadata": {},
   "source": [
    "# User Profile Construction"
   ]
  },
  {
   "cell_type": "code",
   "execution_count": 2,
   "metadata": {},
   "outputs": [],
   "source": [
    "import pandas as pd\n",
    "import numpy as np\n",
    "import pickle\n",
    "\n",
    "# Load processed data\n",
    "news_df = pd.read_pickle(r'C:\\Users\\PC\\Desktop\\CONTENT FILTER\\results\\processed_news.pkl')\n",
    "tfidf_matrix = pd.read_pickle(r'C:\\Users\\PC\\Desktop\\CONTENT FILTER\\results\\tfidf_features.pkl').values\n",
    "\n",
    "with open(r'C:\\Users\\PC\\Desktop\\CONTENT FILTER\\results\\tfidf_vectorizer.pkl', 'rb') as f:\n",
    "    vectorizer = pickle.load(f)"
   ]
  },
  {
   "cell_type": "code",
   "execution_count": 4,
   "metadata": {},
   "outputs": [
    {
     "name": "stdout",
     "output_type": "stream",
     "text": [
      "User profiles created and saved!\n"
     ]
    }
   ],
   "source": [
    "# Function to build user profile based on preferred categories\n",
    "def build_user_profile_from_categories(preferred_categories):\n",
    "    # Filter news by preferred categories\n",
    "    category_news = news_df[news_df['category'].isin(preferred_categories)]\n",
    "    \n",
    "    if len(category_news) == 0:\n",
    "        return None\n",
    "    \n",
    "    # Get indices of preferred news\n",
    "    category_indices = category_news.index.tolist()\n",
    "    \n",
    "    # Average TF-IDF vectors of preferred news\n",
    "    user_profile = np.mean(tfidf_matrix[category_indices], axis=0)\n",
    "    \n",
    "    return user_profile\n",
    "\n",
    "# Function to build user profile based on keywords\n",
    "def build_user_profile_from_keywords(keywords):\n",
    "    # Clean keywords\n",
    "    keywords = ' '.join([word.lower() for word in keywords])\n",
    "    \n",
    "    # Convert keywords to TF-IDF vector\n",
    "    keywords_vector = vectorizer.transform([keywords])\n",
    "    \n",
    "    return keywords_vector.toarray()[0]\n",
    "\n",
    "# Function to build user profile based on article IDs\n",
    "def build_user_profile_from_articles(article_ids):\n",
    "    # Get indices of preferred articles\n",
    "    article_indices = news_df[news_df['nid'].isin(article_ids)].index.tolist()\n",
    "    \n",
    "    if len(article_indices) == 0:\n",
    "        return None\n",
    "    \n",
    "    # Average TF-IDF vectors of preferred articles\n",
    "    user_profile = np.mean(tfidf_matrix[article_indices], axis=0)\n",
    "    \n",
    "    return user_profile\n",
    "\n",
    "# Example: Create a user profile\n",
    "preferred_categories = ['sports', 'technology']\n",
    "user_profile_by_category = build_user_profile_from_categories(preferred_categories)\n",
    "\n",
    "keywords = ['artificial intelligence', 'machine learning', 'data science']\n",
    "user_profile_by_keywords = build_user_profile_from_keywords(keywords)\n",
    "\n",
    "# Save user profiles\n",
    "user_profiles = {\n",
    "    'by_category': user_profile_by_category,\n",
    "    'by_keywords': user_profile_by_keywords\n",
    "}\n",
    "\n",
    "with open(r'C:\\Users\\PC\\Desktop\\CONTENT FILTER\\results\\user_profiles.pkl', 'wb') as f:\n",
    "    pickle.dump(user_profiles, f)\n",
    "\n",
    "print(\"User profiles created and saved!\")"
   ]
  }
 ],
 "metadata": {
  "kernelspec": {
   "display_name": "Python 3",
   "language": "python",
   "name": "python3"
  },
  "language_info": {
   "codemirror_mode": {
    "name": "ipython",
    "version": 3
   },
   "file_extension": ".py",
   "mimetype": "text/x-python",
   "name": "python",
   "nbconvert_exporter": "python",
   "pygments_lexer": "ipython3",
   "version": "3.8.10"
  }
 },
 "nbformat": 4,
 "nbformat_minor": 4
}
