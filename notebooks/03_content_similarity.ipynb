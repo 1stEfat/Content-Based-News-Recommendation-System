{
 "cells": [
  {
   "cell_type": "markdown",
   "metadata": {},
   "source": [
    "# Content Similarity Computation"
   ]
  },
  {
   "cell_type": "code",
   "execution_count": 1,
   "metadata": {},
   "outputs": [],
   "source": [
    "import pandas as pd\n",
    "import numpy as np\n",
    "import pickle\n",
    "from sklearn.metrics.pairwise import cosine_similarity\n",
    "\n",
    "# Load data\n",
    "news_df = pd.read_pickle(r'C:\\Users\\PC\\Desktop\\CONTENT FILTER\\results\\processed_news.pkl')\n",
    "tfidf_matrix = pd.read_pickle(r'C:\\Users\\PC\\Desktop\\CONTENT FILTER\\results\\tfidf_features.pkl').values\n",
    "\n",
    "with open(r'C:\\Users\\PC\\Desktop\\CONTENT FILTER\\results\\user_profiles.pkl', 'rb') as f:\n",
    "    user_profiles = pickle.load(f)"
   ]
  },
  {
   "cell_type": "code",
   "execution_count": 3,
   "metadata": {},
   "outputs": [
    {
     "name": "stdout",
     "output_type": "stream",
     "text": [
      "Similarity scores computed and saved!\n"
     ]
    }
   ],
   "source": [
    "# Function to compute similarity between user profile and news articles\n",
    "def compute_similarity(user_profile):\n",
    "    # Reshape user profile for cosine_similarity function\n",
    "    user_profile_reshaped = user_profile.reshape(1, -1)\n",
    "    \n",
    "    # Compute cosine similarity\n",
    "    similarity_scores = cosine_similarity(user_profile_reshaped, tfidf_matrix)[0]\n",
    "    \n",
    "    return similarity_scores\n",
    "\n",
    "# Compute similarity for user profile based on categories\n",
    "similarity_by_category = compute_similarity(user_profiles['by_category'])\n",
    "\n",
    "# Compute similarity for user profile based on keywords\n",
    "similarity_by_keywords = compute_similarity(user_profiles['by_keywords'])\n",
    "\n",
    "# Create dataframes with similarity scores\n",
    "similarity_df_category = pd.DataFrame({\n",
    "    'nid': news_df['nid'],\n",
    "    'title': news_df['title'],\n",
    "    'category': news_df['category'],\n",
    "    'similarity_score': similarity_by_category\n",
    "})\n",
    "\n",
    "similarity_df_keywords = pd.DataFrame({\n",
    "    'nid': news_df['nid'],\n",
    "    'title': news_df['title'],\n",
    "    'category': news_df['category'],\n",
    "    'similarity_score': similarity_by_keywords\n",
    "})\n",
    "\n",
    "# Save similarity scores\n",
    "similarity_df_category.to_pickle(r'C:\\Users\\PC\\Desktop\\CONTENT FILTER\\results\\similarity_by_category.pkl')\n",
    "similarity_df_keywords.to_pickle(r'C:\\Users\\PC\\Desktop\\CONTENT FILTER\\results\\similarity_by_keywords.pkl')\n",
    "\n",
    "print(\"Similarity scores computed and saved!\")"
   ]
  }
 ],
 "metadata": {
  "kernelspec": {
   "display_name": "Python 3",
   "language": "python",
   "name": "python3"
  },
  "language_info": {
   "codemirror_mode": {
    "name": "ipython",
    "version": 3
   },
   "file_extension": ".py",
   "mimetype": "text/x-python",
   "name": "python",
   "nbconvert_exporter": "python",
   "pygments_lexer": "ipython3",
   "version": "3.8.10"
  }
 },
 "nbformat": 4,
 "nbformat_minor": 4
}
