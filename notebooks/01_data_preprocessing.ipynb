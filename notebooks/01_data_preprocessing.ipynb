{
 "cells": [
  {
   "cell_type": "markdown",
   "metadata": {},
   "source": [
    "# Data Preprocessing for MIND Dataset"
   ]
  },
  {
   "cell_type": "code",
   "execution_count": null,
   "metadata": {},
   "outputs": [
    {
     "name": "stdout",
     "output_type": "stream",
     "text": [
      "Data loaded successfully!\n",
      "Found 51282 articles\n"
     ]
    }
   ],
   "source": [
    "import pandas as pd\n",
    "import numpy as np\n",
    "import re\n",
    "from sklearn.feature_extraction.text import TfidfVectorizer\n",
    "\n",
    "# Load the news dataset \n",
    "news_df = pd.read_csv(r'C:\\Users\\PC\\Desktop\\CONTENT FILTER\\data\\news.tsv',  \n",
    "                      sep='\\t', \n",
    "                      header=None, \n",
    "                      names=['nid', 'category', 'subcategory', 'title', \n",
    "                             'abstract', 'url', 'title_entities', 'abstract_entities'])\n",
    "\n",
    "print(\"Data loaded successfully!\")\n",
    "print(f\"Found {len(news_df)} articles\")"
   ]
  },
  {
   "cell_type": "code",
   "execution_count": 6,
   "metadata": {},
   "outputs": [
    {
     "name": "stdout",
     "output_type": "stream",
     "text": [
      "Processed 51282 news articles\n",
      "TF-IDF matrix shape: (51282, 5000)\n"
     ]
    }
   ],
   "source": [
    "# Basic preprocessing\n",
    "news_df['text'] = news_df['title'] + ' ' + news_df['abstract']\n",
    "news_df['text'] = news_df['text'].fillna('')\n",
    "\n",
    "# Clean text\n",
    "def clean_text(text):\n",
    "    text = text.lower()\n",
    "    text = re.sub(r'[^a-zA-Z0-9\\s]', '', text)\n",
    "    return text\n",
    "\n",
    "news_df['clean_text'] = news_df['text'].apply(clean_text)\n",
    "\n",
    "# Create TF-IDF features\n",
    "vectorizer = TfidfVectorizer(max_features=5000, stop_words='english')\n",
    "tfidf_matrix = vectorizer.fit_transform(news_df['clean_text'])\n",
    "\n",
    "# Save processed data\n",
    "news_df.to_pickle(r'C:\\Users\\PC\\Desktop\\CONTENT FILTER\\results\\processed_news.pkl')\n",
    "pd.DataFrame(tfidf_matrix.toarray(), index=news_df.index).to_pickle(r'C:\\Users\\PC\\Desktop\\CONTENT FILTER\\results\\tfidf_features.pkl')\n",
    "\n",
    "# Export vocabulary for later use\n",
    "import pickle\n",
    "with open(r'C:\\Users\\PC\\Desktop\\CONTENT FILTER\\results\\tfidf_vectorizer.pkl', 'wb') as f:\n",
    "    pickle.dump(vectorizer, f)\n",
    "\n",
    "print(f\"Processed {len(news_df)} news articles\")\n",
    "print(f\"TF-IDF matrix shape: {tfidf_matrix.shape}\")"
   ]
  }
 ],
 "metadata": {
  "kernelspec": {
   "display_name": "Python 3",
   "language": "python",
   "name": "python3"
  },
  "language_info": {
   "codemirror_mode": {
    "name": "ipython",
    "version": 3
   },
   "file_extension": ".py",
   "mimetype": "text/x-python",
   "name": "python",
   "nbconvert_exporter": "python",
   "pygments_lexer": "ipython3",
   "version": "3.8.10"
  }
 },
 "nbformat": 4,
 "nbformat_minor": 4
}
